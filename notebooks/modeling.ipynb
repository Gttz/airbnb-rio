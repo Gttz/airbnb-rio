{
 "cells": [
  {
   "cell_type": "markdown",
   "metadata": {},
   "source": [
    "### Importações das bibliotecas"
   ]
  },
  {
   "cell_type": "code",
   "execution_count": 1,
   "metadata": {
    "scrolled": true
   },
   "outputs": [],
   "source": [
    "# Importação para ignorar os avisos das bibliotecas (famoso future_warning)\n",
    "import warnings\n",
    "warnings.filterwarnings('ignore')\n",
    "# Análise e manipulação\n",
    "import pandas as pd\n",
    "import numpy as np\n",
    "import sys\n",
    "# Transformações e treinamentos\n",
    "from sklearn.compose import ColumnTransformer\n",
    "from imblearn.pipeline import Pipeline\n",
    "from sklearn.preprocessing import StandardScaler, OneHotEncoder\n",
    "# Modelos\n",
    "from xgboost import XGBClassifier\n",
    "from lightgbm import LGBMRegressor\n",
    "# Salvar os modelos\n",
    "import joblib\n",
    "import pickle"
   ]
  },
  {
   "cell_type": "code",
   "execution_count": 2,
   "metadata": {},
   "outputs": [],
   "source": [
    "airbnb = pd.read_csv(\"datasets/listings.csv\")\n",
    "\n",
    "df = airbnb[['neighbourhood_cleansed', 'latitude', 'longitude', 'property_type', 'accommodates', 'bathrooms', 'bathrooms_text', \n",
    "             'bedrooms', 'beds', 'minimum_nights', 'availability_30', 'availability_60', 'availability_90','availability_365', \n",
    "             'review_scores_rating', 'review_scores_accuracy', 'review_scores_cleanliness', 'review_scores_checkin', \n",
    "             'review_scores_communication', 'review_scores_location', 'review_scores_value', \n",
    "             'price']].copy()"
   ]
  },
  {
   "cell_type": "markdown",
   "metadata": {},
   "source": [
    "### Tratamento dos dados ausentes (NaN)"
   ]
  },
  {
   "cell_type": "code",
   "execution_count": 3,
   "metadata": {},
   "outputs": [],
   "source": [
    "# Apagando a coluna banheiros\n",
    "df.drop(['bathrooms'], axis = 1, inplace = True)"
   ]
  },
  {
   "cell_type": "code",
   "execution_count": 4,
   "metadata": {},
   "outputs": [],
   "source": [
    "valores = {'bathrooms_text': '1 bath', \n",
    "           'bedrooms': 1.0, \n",
    "           'beds': 1.0,\n",
    "           'review_scores_rating': 0,\n",
    "           'review_scores_accuracy': 0,\n",
    "           'review_scores_cleanliness': 0,\n",
    "           'review_scores_checkin': 0,\n",
    "           'review_scores_communication': 0,\n",
    "           'review_scores_location': 0,\n",
    "           'review_scores_value': 0}\n",
    "\n",
    "df = df.fillna(value = valores)"
   ]
  },
  {
   "cell_type": "markdown",
   "metadata": {},
   "source": [
    "### Verificação e tratamento de dados duplicados"
   ]
  },
  {
   "cell_type": "code",
   "execution_count": 5,
   "metadata": {
    "scrolled": true
   },
   "outputs": [
    {
     "name": "stdout",
     "output_type": "stream",
     "text": [
      "Valores duplicados antes da transformação: \n",
      "\n",
      "7\n",
      "\n",
      "Valores duplicados após a transformação: \n",
      "\n",
      "0\n",
      "\n"
     ]
    }
   ],
   "source": [
    "#Verificando a quantidade de dados duplicados\n",
    "print(\"Valores duplicados antes da transformação: \\n\\n{}\\n\".format(df.duplicated().sum()))\n",
    "\n",
    "df.drop_duplicates(inplace = True)\n",
    "\n",
    "print(\"Valores duplicados após a transformação: \\n\\n{}\\n\".format(df.duplicated().sum()))"
   ]
  },
  {
   "cell_type": "markdown",
   "metadata": {},
   "source": [
    "### Verificação e tratamento do tipo das colunas"
   ]
  },
  {
   "cell_type": "code",
   "execution_count": 6,
   "metadata": {},
   "outputs": [],
   "source": [
    "# Alteração para o tipo int da coluna bedrooms\n",
    "df['bedrooms'] = df['bedrooms'].astype(int)\n",
    "# Alteração para o tipo int da coluna beds\n",
    "df['beds'] = df['beds'].astype(int)"
   ]
  },
  {
   "cell_type": "code",
   "execution_count": 7,
   "metadata": {},
   "outputs": [],
   "source": [
    "# Filtrando a nossa coluna bathrooms_text\n",
    "df['bathrooms_text'] = df['bathrooms_text'].str.split(' ').str[0]\n",
    "\n",
    "df.loc[df['bathrooms_text'] == \"Shared\", 'bathrooms_text'] = 1\n",
    "df.loc[df['bathrooms_text'] == \"Half-bath\", 'bathrooms_text'] = 1\n",
    "df.loc[df['bathrooms_text'] == \"Private\", 'bathrooms_text'] = 1\n",
    "# Alteração para o tipo int da coluna bathrooms_text\n",
    "df['bathrooms_text'] = df['bathrooms_text'].astype(float)\n",
    "df['bathrooms_text'] = df['bathrooms_text'].astype(int)"
   ]
  },
  {
   "cell_type": "code",
   "execution_count": 8,
   "metadata": {},
   "outputs": [],
   "source": [
    "# Alteração para o tipo int da coluna review_scores_rating\n",
    "df['review_scores_rating'] = df['review_scores_rating'].astype(int)\n",
    "# Alteração para o tipo int da coluna review_scores_accuracy\n",
    "df['review_scores_accuracy'] = df['review_scores_accuracy'].astype(int)\n",
    "# Alteração para o tipo int da coluna review_scores_cleanliness\n",
    "df['review_scores_cleanliness'] = df['review_scores_cleanliness'].astype(int)\n",
    "# Alteração para o tipo int da coluna review_scores_checkin\n",
    "df['review_scores_checkin'] = df['review_scores_checkin'].astype(int)\n",
    "# Alteração para o tipo int da coluna review_scores_communication\n",
    "df['review_scores_communication'] = df['review_scores_communication'].astype(int)\n",
    "# Alteração para o tipo int da coluna review_scores_location\n",
    "df['review_scores_location'] = df['review_scores_location'].astype(int)\n",
    "# Alteração para o tipo int da coluna review_scores_value\n",
    "df['review_scores_value'] = df['review_scores_value'].astype(int)"
   ]
  },
  {
   "cell_type": "code",
   "execution_count": 9,
   "metadata": {
    "scrolled": false
   },
   "outputs": [],
   "source": [
    "# Antes de alterarmos, devemos retirar '$' e ','\n",
    "df['price'] = df.price.str.replace('$', '')\n",
    "df['price'] = df.price.str.replace(',', '')\n",
    "# Alterando para tipo float64\n",
    "df['price'] = pd.to_numeric(df.price)"
   ]
  },
  {
   "cell_type": "code",
   "execution_count": 10,
   "metadata": {},
   "outputs": [
    {
     "data": {
      "text/plain": [
       "22230    218.0\n",
       "2376     400.0\n",
       "22037    270.0\n",
       "Name: price, dtype: float64"
      ]
     },
     "metadata": {},
     "output_type": "display_data"
    },
    {
     "data": {
      "text/plain": [
       "count     26608.000000\n",
       "mean        742.717529\n",
       "std        5369.569077\n",
       "min           0.000000\n",
       "25%         157.000000\n",
       "50%         280.000000\n",
       "75%         550.000000\n",
       "max      625216.000000\n",
       "Name: price, dtype: float64"
      ]
     },
     "execution_count": 10,
     "metadata": {},
     "output_type": "execute_result"
    }
   ],
   "source": [
    "display(df['price'].sample(3))\n",
    "\n",
    "df['price'].describe()"
   ]
  },
  {
   "cell_type": "markdown",
   "metadata": {},
   "source": [
    "### Verificação de dados inconsistentes"
   ]
  },
  {
   "cell_type": "code",
   "execution_count": 11,
   "metadata": {},
   "outputs": [],
   "source": [
    "def remove_outlier(df_in, col_name):\n",
    "    q1 = df_in[col_name].quantile(0.25)\n",
    "    q3 = df_in[col_name].quantile(0.75)\n",
    "    iqr = q3 - q1\n",
    "    fence_low  = q1 - 1.5 * iqr\n",
    "    fence_high = q3 + 1.5 * iqr\n",
    "    df_out = df_in.loc[(df_in[col_name] > fence_low) & (df_in[col_name] < fence_high)]\n",
    "    return df_out"
   ]
  },
  {
   "cell_type": "markdown",
   "metadata": {},
   "source": [
    "#### Filtrando valores númericos"
   ]
  },
  {
   "cell_type": "code",
   "execution_count": 12,
   "metadata": {
    "scrolled": true
   },
   "outputs": [
    {
     "data": {
      "text/html": [
       "<div>\n",
       "<style scoped>\n",
       "    .dataframe tbody tr th:only-of-type {\n",
       "        vertical-align: middle;\n",
       "    }\n",
       "\n",
       "    .dataframe tbody tr th {\n",
       "        vertical-align: top;\n",
       "    }\n",
       "\n",
       "    .dataframe thead th {\n",
       "        text-align: right;\n",
       "    }\n",
       "</style>\n",
       "<table border=\"1\" class=\"dataframe\">\n",
       "  <thead>\n",
       "    <tr style=\"text-align: right;\">\n",
       "      <th></th>\n",
       "      <th>latitude</th>\n",
       "      <th>longitude</th>\n",
       "      <th>accommodates</th>\n",
       "      <th>bathrooms_text</th>\n",
       "      <th>bedrooms</th>\n",
       "      <th>beds</th>\n",
       "      <th>minimum_nights</th>\n",
       "      <th>availability_30</th>\n",
       "      <th>availability_60</th>\n",
       "      <th>availability_90</th>\n",
       "      <th>availability_365</th>\n",
       "      <th>review_scores_rating</th>\n",
       "      <th>review_scores_accuracy</th>\n",
       "      <th>review_scores_cleanliness</th>\n",
       "      <th>review_scores_checkin</th>\n",
       "      <th>review_scores_communication</th>\n",
       "      <th>review_scores_location</th>\n",
       "      <th>review_scores_value</th>\n",
       "      <th>price</th>\n",
       "    </tr>\n",
       "  </thead>\n",
       "  <tbody>\n",
       "    <tr>\n",
       "      <th>count</th>\n",
       "      <td>26608.000000</td>\n",
       "      <td>26608.000000</td>\n",
       "      <td>26608.000000</td>\n",
       "      <td>26608.000000</td>\n",
       "      <td>26608.000000</td>\n",
       "      <td>26608.000000</td>\n",
       "      <td>26608.000000</td>\n",
       "      <td>26608.000000</td>\n",
       "      <td>26608.000000</td>\n",
       "      <td>26608.000000</td>\n",
       "      <td>26608.000000</td>\n",
       "      <td>26608.000000</td>\n",
       "      <td>26608.000000</td>\n",
       "      <td>26608.000000</td>\n",
       "      <td>26608.000000</td>\n",
       "      <td>26608.000000</td>\n",
       "      <td>26608.000000</td>\n",
       "      <td>26608.000000</td>\n",
       "      <td>26608.000000</td>\n",
       "    </tr>\n",
       "    <tr>\n",
       "      <th>mean</th>\n",
       "      <td>-22.965842</td>\n",
       "      <td>-43.248541</td>\n",
       "      <td>4.160891</td>\n",
       "      <td>1.575466</td>\n",
       "      <td>1.661493</td>\n",
       "      <td>2.533561</td>\n",
       "      <td>4.725346</td>\n",
       "      <td>19.250263</td>\n",
       "      <td>41.232223</td>\n",
       "      <td>64.250338</td>\n",
       "      <td>219.482186</td>\n",
       "      <td>57.264770</td>\n",
       "      <td>5.830126</td>\n",
       "      <td>5.683366</td>\n",
       "      <td>5.929683</td>\n",
       "      <td>5.906118</td>\n",
       "      <td>5.905367</td>\n",
       "      <td>5.625601</td>\n",
       "      <td>742.717529</td>\n",
       "    </tr>\n",
       "    <tr>\n",
       "      <th>std</th>\n",
       "      <td>0.034972</td>\n",
       "      <td>0.096293</td>\n",
       "      <td>2.494420</td>\n",
       "      <td>1.005238</td>\n",
       "      <td>1.034164</td>\n",
       "      <td>2.122884</td>\n",
       "      <td>19.105020</td>\n",
       "      <td>12.452754</td>\n",
       "      <td>23.788491</td>\n",
       "      <td>34.633822</td>\n",
       "      <td>141.513264</td>\n",
       "      <td>46.837873</td>\n",
       "      <td>4.767351</td>\n",
       "      <td>4.675823</td>\n",
       "      <td>4.827624</td>\n",
       "      <td>4.813450</td>\n",
       "      <td>4.806387</td>\n",
       "      <td>4.617485</td>\n",
       "      <td>5369.569077</td>\n",
       "    </tr>\n",
       "    <tr>\n",
       "      <th>min</th>\n",
       "      <td>-23.072920</td>\n",
       "      <td>-43.704790</td>\n",
       "      <td>0.000000</td>\n",
       "      <td>0.000000</td>\n",
       "      <td>1.000000</td>\n",
       "      <td>0.000000</td>\n",
       "      <td>1.000000</td>\n",
       "      <td>0.000000</td>\n",
       "      <td>0.000000</td>\n",
       "      <td>0.000000</td>\n",
       "      <td>0.000000</td>\n",
       "      <td>0.000000</td>\n",
       "      <td>0.000000</td>\n",
       "      <td>0.000000</td>\n",
       "      <td>0.000000</td>\n",
       "      <td>0.000000</td>\n",
       "      <td>0.000000</td>\n",
       "      <td>0.000000</td>\n",
       "      <td>0.000000</td>\n",
       "    </tr>\n",
       "    <tr>\n",
       "      <th>25%</th>\n",
       "      <td>-22.984570</td>\n",
       "      <td>-43.304100</td>\n",
       "      <td>2.000000</td>\n",
       "      <td>1.000000</td>\n",
       "      <td>1.000000</td>\n",
       "      <td>1.000000</td>\n",
       "      <td>1.000000</td>\n",
       "      <td>3.000000</td>\n",
       "      <td>23.000000</td>\n",
       "      <td>43.000000</td>\n",
       "      <td>88.000000</td>\n",
       "      <td>0.000000</td>\n",
       "      <td>0.000000</td>\n",
       "      <td>0.000000</td>\n",
       "      <td>0.000000</td>\n",
       "      <td>0.000000</td>\n",
       "      <td>0.000000</td>\n",
       "      <td>0.000000</td>\n",
       "      <td>157.000000</td>\n",
       "    </tr>\n",
       "    <tr>\n",
       "      <th>50%</th>\n",
       "      <td>-22.971705</td>\n",
       "      <td>-43.196220</td>\n",
       "      <td>4.000000</td>\n",
       "      <td>1.000000</td>\n",
       "      <td>1.000000</td>\n",
       "      <td>2.000000</td>\n",
       "      <td>2.000000</td>\n",
       "      <td>27.000000</td>\n",
       "      <td>56.500000</td>\n",
       "      <td>86.000000</td>\n",
       "      <td>255.000000</td>\n",
       "      <td>90.000000</td>\n",
       "      <td>9.000000</td>\n",
       "      <td>9.000000</td>\n",
       "      <td>10.000000</td>\n",
       "      <td>10.000000</td>\n",
       "      <td>10.000000</td>\n",
       "      <td>9.000000</td>\n",
       "      <td>280.000000</td>\n",
       "    </tr>\n",
       "    <tr>\n",
       "      <th>75%</th>\n",
       "      <td>-22.951607</td>\n",
       "      <td>-43.186300</td>\n",
       "      <td>5.000000</td>\n",
       "      <td>2.000000</td>\n",
       "      <td>2.000000</td>\n",
       "      <td>3.000000</td>\n",
       "      <td>4.000000</td>\n",
       "      <td>30.000000</td>\n",
       "      <td>59.000000</td>\n",
       "      <td>89.000000</td>\n",
       "      <td>363.000000</td>\n",
       "      <td>99.000000</td>\n",
       "      <td>10.000000</td>\n",
       "      <td>10.000000</td>\n",
       "      <td>10.000000</td>\n",
       "      <td>10.000000</td>\n",
       "      <td>10.000000</td>\n",
       "      <td>10.000000</td>\n",
       "      <td>550.000000</td>\n",
       "    </tr>\n",
       "    <tr>\n",
       "      <th>max</th>\n",
       "      <td>-22.749820</td>\n",
       "      <td>-43.104860</td>\n",
       "      <td>16.000000</td>\n",
       "      <td>20.000000</td>\n",
       "      <td>30.000000</td>\n",
       "      <td>50.000000</td>\n",
       "      <td>1000.000000</td>\n",
       "      <td>30.000000</td>\n",
       "      <td>60.000000</td>\n",
       "      <td>90.000000</td>\n",
       "      <td>365.000000</td>\n",
       "      <td>100.000000</td>\n",
       "      <td>10.000000</td>\n",
       "      <td>10.000000</td>\n",
       "      <td>10.000000</td>\n",
       "      <td>10.000000</td>\n",
       "      <td>10.000000</td>\n",
       "      <td>10.000000</td>\n",
       "      <td>625216.000000</td>\n",
       "    </tr>\n",
       "  </tbody>\n",
       "</table>\n",
       "</div>"
      ],
      "text/plain": [
       "           latitude     longitude  accommodates  bathrooms_text      bedrooms  \\\n",
       "count  26608.000000  26608.000000  26608.000000    26608.000000  26608.000000   \n",
       "mean     -22.965842    -43.248541      4.160891        1.575466      1.661493   \n",
       "std        0.034972      0.096293      2.494420        1.005238      1.034164   \n",
       "min      -23.072920    -43.704790      0.000000        0.000000      1.000000   \n",
       "25%      -22.984570    -43.304100      2.000000        1.000000      1.000000   \n",
       "50%      -22.971705    -43.196220      4.000000        1.000000      1.000000   \n",
       "75%      -22.951607    -43.186300      5.000000        2.000000      2.000000   \n",
       "max      -22.749820    -43.104860     16.000000       20.000000     30.000000   \n",
       "\n",
       "               beds  minimum_nights  availability_30  availability_60  \\\n",
       "count  26608.000000    26608.000000     26608.000000     26608.000000   \n",
       "mean       2.533561        4.725346        19.250263        41.232223   \n",
       "std        2.122884       19.105020        12.452754        23.788491   \n",
       "min        0.000000        1.000000         0.000000         0.000000   \n",
       "25%        1.000000        1.000000         3.000000        23.000000   \n",
       "50%        2.000000        2.000000        27.000000        56.500000   \n",
       "75%        3.000000        4.000000        30.000000        59.000000   \n",
       "max       50.000000     1000.000000        30.000000        60.000000   \n",
       "\n",
       "       availability_90  availability_365  review_scores_rating  \\\n",
       "count     26608.000000      26608.000000          26608.000000   \n",
       "mean         64.250338        219.482186             57.264770   \n",
       "std          34.633822        141.513264             46.837873   \n",
       "min           0.000000          0.000000              0.000000   \n",
       "25%          43.000000         88.000000              0.000000   \n",
       "50%          86.000000        255.000000             90.000000   \n",
       "75%          89.000000        363.000000             99.000000   \n",
       "max          90.000000        365.000000            100.000000   \n",
       "\n",
       "       review_scores_accuracy  review_scores_cleanliness  \\\n",
       "count            26608.000000               26608.000000   \n",
       "mean                 5.830126                   5.683366   \n",
       "std                  4.767351                   4.675823   \n",
       "min                  0.000000                   0.000000   \n",
       "25%                  0.000000                   0.000000   \n",
       "50%                  9.000000                   9.000000   \n",
       "75%                 10.000000                  10.000000   \n",
       "max                 10.000000                  10.000000   \n",
       "\n",
       "       review_scores_checkin  review_scores_communication  \\\n",
       "count           26608.000000                 26608.000000   \n",
       "mean                5.929683                     5.906118   \n",
       "std                 4.827624                     4.813450   \n",
       "min                 0.000000                     0.000000   \n",
       "25%                 0.000000                     0.000000   \n",
       "50%                10.000000                    10.000000   \n",
       "75%                10.000000                    10.000000   \n",
       "max                10.000000                    10.000000   \n",
       "\n",
       "       review_scores_location  review_scores_value          price  \n",
       "count            26608.000000         26608.000000   26608.000000  \n",
       "mean                 5.905367             5.625601     742.717529  \n",
       "std                  4.806387             4.617485    5369.569077  \n",
       "min                  0.000000             0.000000       0.000000  \n",
       "25%                  0.000000             0.000000     157.000000  \n",
       "50%                 10.000000             9.000000     280.000000  \n",
       "75%                 10.000000            10.000000     550.000000  \n",
       "max                 10.000000            10.000000  625216.000000  "
      ]
     },
     "execution_count": 12,
     "metadata": {},
     "output_type": "execute_result"
    }
   ],
   "source": [
    "df.describe()"
   ]
  },
  {
   "cell_type": "markdown",
   "metadata": {},
   "source": [
    "###### Coluna ``price``"
   ]
  },
  {
   "cell_type": "code",
   "execution_count": 13,
   "metadata": {},
   "outputs": [
    {
     "data": {
      "text/plain": [
       "count    23831.000000\n",
       "mean       329.085687\n",
       "std        245.506407\n",
       "min         33.000000\n",
       "25%        150.000000\n",
       "50%        250.000000\n",
       "75%        443.000000\n",
       "max       1139.000000\n",
       "Name: price, dtype: float64"
      ]
     },
     "metadata": {},
     "output_type": "display_data"
    }
   ],
   "source": [
    "# Filtrando...\n",
    "df = df[df.price > 0]\n",
    "df = remove_outlier(df, 'price')\n",
    "\n",
    "display(df['price'].describe())"
   ]
  },
  {
   "cell_type": "markdown",
   "metadata": {},
   "source": [
    "###### Coluna ``accommodates``"
   ]
  },
  {
   "cell_type": "code",
   "execution_count": 14,
   "metadata": {},
   "outputs": [],
   "source": [
    "df['accommodates'] = pd.cut(df['accommodates'], \n",
    "                    bins = [0, 1, 2, 3, 4, 5, 6, sys.maxsize], \n",
    "                    labels = ['1', '2', '3', '4', '5', '6', '7+'])\n",
    "\n",
    "df['accommodates'] = df['accommodates'].astype(object)"
   ]
  },
  {
   "cell_type": "markdown",
   "metadata": {},
   "source": [
    "###### Coluna ``bathrooms_text``"
   ]
  },
  {
   "cell_type": "code",
   "execution_count": 15,
   "metadata": {},
   "outputs": [],
   "source": [
    "# Filtrando...\n",
    "df = df[(df.bathrooms_text > 0)]\n",
    "\n",
    "df['bathrooms_text'] = pd.cut(df['bathrooms_text'], \n",
    "                    bins = [0, 1, 2, 3, sys.maxsize], \n",
    "                    labels = ['1', '2', '3', '4+'])\n",
    "\n",
    "df['bathrooms_text'] = df['bathrooms_text'].astype(object)"
   ]
  },
  {
   "cell_type": "markdown",
   "metadata": {},
   "source": [
    "###### Coluna ``bedrooms``"
   ]
  },
  {
   "cell_type": "code",
   "execution_count": 16,
   "metadata": {},
   "outputs": [],
   "source": [
    "df['bedrooms'] = pd.cut(df['bedrooms'], \n",
    "                    bins = [0, 1, 2, 3, sys.maxsize], \n",
    "                    labels = ['1', '2', '3', '4+'])\n",
    "\n",
    "df['bedrooms'] = df['bedrooms'].astype(object)"
   ]
  },
  {
   "cell_type": "markdown",
   "metadata": {},
   "source": [
    "###### Coluna ``beds``"
   ]
  },
  {
   "cell_type": "code",
   "execution_count": 17,
   "metadata": {},
   "outputs": [],
   "source": [
    "# Filtrando...\n",
    "df = df[(df.beds > 0)]\n",
    "\n",
    "df['beds'] = pd.cut(df['beds'], \n",
    "                    bins = [0, 1, 2, 3, sys.maxsize], \n",
    "                    labels = ['1', '2', '3', '4+'])\n",
    "\n",
    "df['beds'] = df['beds'].astype(object)"
   ]
  },
  {
   "cell_type": "markdown",
   "metadata": {},
   "source": [
    "###### Coluna ``minimum_nights``"
   ]
  },
  {
   "cell_type": "code",
   "execution_count": 18,
   "metadata": {
    "scrolled": false
   },
   "outputs": [],
   "source": [
    "# Filtrando...\n",
    "df = df[df.minimum_nights <= 360]\n",
    "# df = remove_outlier(df, 'minimum_nights')\n",
    "\n",
    "df['minimum_nights'] = pd.cut(df['minimum_nights'], \n",
    "                    bins = [0, 1, 2, 3, 4, sys.maxsize], \n",
    "                    labels = ['1', '2', '3', '4', '5+'])\n",
    "\n",
    "# Trocando o tipo da coluna para 'object'\n",
    "df['minimum_nights'] = df['minimum_nights'].astype(object)"
   ]
  },
  {
   "cell_type": "markdown",
   "metadata": {},
   "source": [
    "###### Coluna ``review_scores_rating``"
   ]
  },
  {
   "cell_type": "code",
   "execution_count": 19,
   "metadata": {},
   "outputs": [],
   "source": [
    "df['review_scores_rating'] = pd.cut(df['review_scores_rating'], \n",
    "                    bins = [-sys.maxsize - 1, 0, 75, 90, 99, sys.maxsize], \n",
    "                    labels = ['Sem Resposta', 'Razoavel', 'Bom', 'Otimo', 'Perfeito'])\n",
    "\n",
    "df['review_scores_rating'] = df['review_scores_rating'].astype(object)"
   ]
  },
  {
   "cell_type": "markdown",
   "metadata": {},
   "source": [
    "###### Todas as outras colunas ``review_scores``"
   ]
  },
  {
   "cell_type": "code",
   "execution_count": 20,
   "metadata": {},
   "outputs": [],
   "source": [
    "df['review_scores_accuracy'] = pd.cut(df['review_scores_accuracy'], \n",
    "                    bins = [-sys.maxsize - 1, 0, 5, 7, 9, sys.maxsize], \n",
    "                    labels = ['Sem Resposta', 'Razoavel', 'Regular', 'Bom', 'Otimo'])\n",
    "\n",
    "df['review_scores_accuracy'] = df['review_scores_accuracy'].astype(object)"
   ]
  },
  {
   "cell_type": "code",
   "execution_count": 21,
   "metadata": {},
   "outputs": [],
   "source": [
    "df['review_scores_cleanliness'] = pd.cut(df['review_scores_cleanliness'], \n",
    "                    bins = [-sys.maxsize - 1, 0, 5, 7, 9, sys.maxsize], \n",
    "                    labels = ['Sem Resposta', 'Razoavel', 'Regular', 'Bom', 'Otimo'])\n",
    "\n",
    "df['review_scores_cleanliness'] = df['review_scores_cleanliness'].astype(object)"
   ]
  },
  {
   "cell_type": "code",
   "execution_count": 22,
   "metadata": {},
   "outputs": [],
   "source": [
    "df['review_scores_checkin'] = pd.cut(df['review_scores_checkin'], \n",
    "                    bins = [-sys.maxsize - 1, 0, 5, 7, 9, sys.maxsize], \n",
    "                    labels = ['Sem Resposta', 'Razoavel', 'Regular', 'Bom', 'Otimo'])\n",
    "\n",
    "df['review_scores_checkin'] = df['review_scores_checkin'].astype(object)"
   ]
  },
  {
   "cell_type": "code",
   "execution_count": 23,
   "metadata": {},
   "outputs": [],
   "source": [
    "df['review_scores_communication'] = pd.cut(df['review_scores_communication'], \n",
    "                    bins = [-sys.maxsize - 1, 0, 5, 7, 9, sys.maxsize], \n",
    "                    labels = ['Sem Resposta', 'Razoavel', 'Regular', 'Bom', 'Otimo'])\n",
    "\n",
    "df['review_scores_communication'] = df['review_scores_communication'].astype(object)"
   ]
  },
  {
   "cell_type": "code",
   "execution_count": 24,
   "metadata": {},
   "outputs": [],
   "source": [
    "df['review_scores_location'] = pd.cut(df['review_scores_location'], \n",
    "                    bins = [-sys.maxsize - 1, 0, 5, 7, 9, sys.maxsize], \n",
    "                    labels = ['Sem Resposta', 'Razoavel', 'Regular', 'Bom', 'Otimo'])\n",
    "\n",
    "df['review_scores_location'] = df['review_scores_location'].astype(object)"
   ]
  },
  {
   "cell_type": "code",
   "execution_count": 25,
   "metadata": {},
   "outputs": [],
   "source": [
    "df['review_scores_value'] = pd.cut(df['review_scores_value'], \n",
    "                    bins = [-sys.maxsize - 1, 0, 5, 7, 9, sys.maxsize], \n",
    "                    labels = ['Sem Resposta', 'Razoavel', 'Regular', 'Bom', 'Otimo'])\n",
    "\n",
    "df['review_scores_value'] = df['review_scores_value'].astype(object)"
   ]
  },
  {
   "cell_type": "markdown",
   "metadata": {},
   "source": [
    "#### Filtrando valores categóricos"
   ]
  },
  {
   "cell_type": "code",
   "execution_count": 26,
   "metadata": {
    "scrolled": true
   },
   "outputs": [
    {
     "data": {
      "text/html": [
       "<div>\n",
       "<style scoped>\n",
       "    .dataframe tbody tr th:only-of-type {\n",
       "        vertical-align: middle;\n",
       "    }\n",
       "\n",
       "    .dataframe tbody tr th {\n",
       "        vertical-align: top;\n",
       "    }\n",
       "\n",
       "    .dataframe thead th {\n",
       "        text-align: right;\n",
       "    }\n",
       "</style>\n",
       "<table border=\"1\" class=\"dataframe\">\n",
       "  <thead>\n",
       "    <tr style=\"text-align: right;\">\n",
       "      <th></th>\n",
       "      <th>neighbourhood_cleansed</th>\n",
       "      <th>property_type</th>\n",
       "      <th>accommodates</th>\n",
       "      <th>bathrooms_text</th>\n",
       "      <th>bedrooms</th>\n",
       "      <th>beds</th>\n",
       "      <th>minimum_nights</th>\n",
       "      <th>review_scores_rating</th>\n",
       "      <th>review_scores_accuracy</th>\n",
       "      <th>review_scores_cleanliness</th>\n",
       "      <th>review_scores_checkin</th>\n",
       "      <th>review_scores_communication</th>\n",
       "      <th>review_scores_location</th>\n",
       "      <th>review_scores_value</th>\n",
       "    </tr>\n",
       "  </thead>\n",
       "  <tbody>\n",
       "    <tr>\n",
       "      <th>count</th>\n",
       "      <td>23165</td>\n",
       "      <td>23165</td>\n",
       "      <td>23165</td>\n",
       "      <td>23165</td>\n",
       "      <td>23165</td>\n",
       "      <td>23165</td>\n",
       "      <td>23165</td>\n",
       "      <td>23165</td>\n",
       "      <td>23165</td>\n",
       "      <td>23165</td>\n",
       "      <td>23165</td>\n",
       "      <td>23165</td>\n",
       "      <td>23165</td>\n",
       "      <td>23165</td>\n",
       "    </tr>\n",
       "    <tr>\n",
       "      <th>unique</th>\n",
       "      <td>149</td>\n",
       "      <td>83</td>\n",
       "      <td>7</td>\n",
       "      <td>4</td>\n",
       "      <td>4</td>\n",
       "      <td>4</td>\n",
       "      <td>5</td>\n",
       "      <td>5</td>\n",
       "      <td>5</td>\n",
       "      <td>5</td>\n",
       "      <td>5</td>\n",
       "      <td>5</td>\n",
       "      <td>5</td>\n",
       "      <td>5</td>\n",
       "    </tr>\n",
       "    <tr>\n",
       "      <th>top</th>\n",
       "      <td>Copacabana</td>\n",
       "      <td>Entire apartment</td>\n",
       "      <td>2</td>\n",
       "      <td>1</td>\n",
       "      <td>1</td>\n",
       "      <td>1</td>\n",
       "      <td>1</td>\n",
       "      <td>Sem Resposta</td>\n",
       "      <td>Otimo</td>\n",
       "      <td>Otimo</td>\n",
       "      <td>Otimo</td>\n",
       "      <td>Otimo</td>\n",
       "      <td>Otimo</td>\n",
       "      <td>Sem Resposta</td>\n",
       "    </tr>\n",
       "    <tr>\n",
       "      <th>freq</th>\n",
       "      <td>6948</td>\n",
       "      <td>13219</td>\n",
       "      <td>6410</td>\n",
       "      <td>15500</td>\n",
       "      <td>14649</td>\n",
       "      <td>8211</td>\n",
       "      <td>6167</td>\n",
       "      <td>8208</td>\n",
       "      <td>11716</td>\n",
       "      <td>9537</td>\n",
       "      <td>13271</td>\n",
       "      <td>12891</td>\n",
       "      <td>12685</td>\n",
       "      <td>8217</td>\n",
       "    </tr>\n",
       "  </tbody>\n",
       "</table>\n",
       "</div>"
      ],
      "text/plain": [
       "       neighbourhood_cleansed     property_type accommodates bathrooms_text  \\\n",
       "count                   23165             23165        23165          23165   \n",
       "unique                    149                83            7              4   \n",
       "top                Copacabana  Entire apartment            2              1   \n",
       "freq                     6948             13219         6410          15500   \n",
       "\n",
       "       bedrooms   beds minimum_nights review_scores_rating  \\\n",
       "count     23165  23165          23165                23165   \n",
       "unique        4      4              5                    5   \n",
       "top           1      1              1         Sem Resposta   \n",
       "freq      14649   8211           6167                 8208   \n",
       "\n",
       "       review_scores_accuracy review_scores_cleanliness review_scores_checkin  \\\n",
       "count                   23165                     23165                 23165   \n",
       "unique                      5                         5                     5   \n",
       "top                     Otimo                     Otimo                 Otimo   \n",
       "freq                    11716                      9537                 13271   \n",
       "\n",
       "       review_scores_communication review_scores_location review_scores_value  \n",
       "count                        23165                  23165               23165  \n",
       "unique                           5                      5                   5  \n",
       "top                          Otimo                  Otimo        Sem Resposta  \n",
       "freq                         12891                  12685                8217  "
      ]
     },
     "execution_count": 26,
     "metadata": {},
     "output_type": "execute_result"
    }
   ],
   "source": [
    "df.describe(include = 'O')"
   ]
  },
  {
   "cell_type": "code",
   "execution_count": 27,
   "metadata": {},
   "outputs": [],
   "source": [
    "df['neighbourhood_region'] = df['neighbourhood_cleansed'].copy()\n",
    "\n",
    "df.neighbourhood_region.replace({\n",
    "    'Copacabana':'Zona Sul',\n",
    "    'Ipanema':'Zona Sul',\n",
    "    'Barra da Tijuca':'Zona Oeste',\n",
    "    'Botafogo':'Zona Sul',\n",
    "    'Jacarepaguá':'Zona Oeste',\n",
    "    'Leblon':'Zona Sul',\n",
    "    'Recreio dos Bandeirantes':'Zona Oeste',\n",
    "    'Santa Teresa':'Zona Sul',\n",
    "    'Centro':'Zona Central',\n",
    "    'Flamengo':'Zona Sul',\n",
    "    'Leme':'Zona Sul',\n",
    "    'Tijuca':'Zona Norte',\n",
    "    'Laranjeiras':'Zona Sul',\n",
    "    'Catete':'Zona Sul',\n",
    "    'Camorim':'Zona Oeste',\n",
    "    'Lagoa':'Zona Sul',\n",
    "    'Glória':'Zona Sul',\n",
    "    'Jardim Botânico':'Zona Sul',\n",
    "    'Vila Isabel':'Zona Norte',\n",
    "    'São Conrado':'Zona Sul', \n",
    "    'Humaitá':'Zona Sul',\n",
    "    'Gávea':'Zona Sul',\n",
    "    'Maracanã':'Zona Norte',\n",
    "    'Vidigal':'Zona Sul',\n",
    "    'Freguesia (Jacarepaguá)':'Zona Oeste',\n",
    "    'Taquara':'Zona Oeste',\n",
    "    'Urca':'Zona Sul',\n",
    "    'Vargem Pequena':'Zona Oeste',\n",
    "    'Itanhangá':'Zona Oeste',\n",
    "    'Rio Comprido':'Zona Central', \n",
    "    'Vargem Grande':'Zona Oeste',\n",
    "    'Campo Grande':'Zona Oeste',\n",
    "    'Cosme Velho':'Zona Sul',\n",
    "    'São Cristóvão':'Zona Central',\n",
    "    'Estácio':'Zona Central',\n",
    "    'Guaratiba':'Zona Oeste',\n",
    "    'Barra de Guaratiba':'Zona Oeste',\n",
    "    'Jardim Guanabara':'Zona Norte',\n",
    "    'Praça da Bandeira':'Zona Norte',\n",
    "    'Curicica':'Zona Oeste',\n",
    "    'Grajaú':'Zona Norte',\n",
    "    'Pechincha':'Zona Oeste',\n",
    "    'Andaraí':'Zona Norte',\n",
    "    'Anil':'Zona Oeste',\n",
    "    'Paquetá':'Zona Central',\n",
    "    'Engenho Novo':'Zona Norte',\n",
    "    'Irajá':'Zona Norte',\n",
    "    'Alto da Boa Vista':'Zona Norte',\n",
    "    'Praça da Bandeira':'Zona Norte',\n",
    "    'Saúde':'Zona Central',\n",
    "    'Todos os Santos':'Zona Norte',\n",
    "    'Brás de Pina':'Zona Norte',\n",
    "    'Méier':'Zona Norte',\n",
    "    'Cachambi':'Zona Norte',\n",
    "    'Portuguesa':'Zona Norte',\n",
    "    'Joá':'Zona Oeste',\n",
    "    'Praça Seca':'Zona Oeste',\n",
    "    'Bonsucesso':'Zona Norte',\n",
    "    'Cidade Nova':'Zona Central',\n",
    "    'Rocinha':'Zona Sul',\n",
    "    'Rocha':'Zona Norte',\n",
    "    'Penha':'Zona Norte',\n",
    "    'Santa Cruz':'Zona Oeste',\n",
    "    'São Francisco Xavier':'Zona Norte',\n",
    "    'Bangu':'Zona Oeste',\n",
    "    'Gardênia Azul':'Zona Oeste',\n",
    "    'Encantado':'Zona Norte',\n",
    "    'Vila Valqueire':'Zona Oeste',\n",
    "    'Riachuelo':'Zona Norte',\n",
    "    'Tanque':'Zona Oeste',\n",
    "    'Cidade de Deus':'Zona Oeste',\n",
    "    'Lins de Vasconcelos':'Zona Norte',\n",
    "    'Gamboa':'Zona Central',\n",
    "    'Del Castilho':'Zona Norte',\n",
    "    'Maria da Graça':'Zona Norte',\n",
    "    'Piedade':'Zona Norte',\n",
    "    'Pilares':'Zona Norte',\n",
    "    'Higienópolis':'Zona Norte',\n",
    "    'Santo Cristo':'Zona Central',\n",
    "    'Tauá':'Zona Norte',\n",
    "    'Vila da Penha':'Zona Norte',\n",
    "    'Marechal Hermes':'Zona Norte',\n",
    "    'Santíssimo':'Zona Oeste',\n",
    "    'Campinho':'Zona Norte',\n",
    "    'Vasco da Gama':'Zona Norte',\n",
    "    'Penha Circular':'Zona Norte',\n",
    "    'Pilares':'Zona Norte',\n",
    "    'Bento Ribeiro':'Zona Norte',\n",
    "    'Ramos':'Zona Norte',\n",
    "    'Pedra de Guaratiba':'Zona Oeste',\n",
    "    'Jardim Sulacap':'Zona Oeste',\n",
    "    'Benfica':'Zona Central',\n",
    "    'Padre Miguel':'Zona Oeste',\n",
    "    'Catumbi':'Zona Central',\n",
    "    'Cosmos':'Zona Oeste',\n",
    "    'Sampaio':'Zona Norte',\n",
    "    'Ricardo de Albuquerque':'Zona Norte',\n",
    "    'Mangueira':'Zona Central',\n",
    "    'Cocotá':'Zona Norte',\n",
    "    'Parada de Lucas':'Zona Norte',   \n",
    "    'Olaria':'Zona Norte',\n",
    "    'Cocotá':'Zona Norte',\n",
    "    'Senador Camará':'Zona Oeste',\n",
    "    'Sepetiba':'Zona Oeste',\n",
    "    'Coelho Neto':'Zona Norte',\n",
    "    'Senador Vasconcelos':'Zona Oeste',\n",
    "    'Vicente de Carvalho':'Zona Norte',\n",
    "    'Pitangueiras':'Zona Norte',\n",
    "    'Cascadura':'Zona Norte',\n",
    "    'Tomás Coelho':'Zona Norte',\n",
    "    'Inhaúma':'Zona Norte',\n",
    "    'Quintino Bocaiúva':'Zona Norte',\n",
    "    'Inhoaíba':'Zona Oeste',\n",
    "    'Pavuna':'Zona Norte',\n",
    "    'Madureira':'Zona Norte',\n",
    "    'Jardim Carioca':'Zona Norte',\n",
    "    'Praia da Bandeira':'Zona Norte',\n",
    "    'Cidade Universitária':'Zona Norte',\n",
    "    'Barros Filho':'Zona Norte',\n",
    "    'Realengo':'Zona Oeste',\n",
    "    'Manguinhos':'Zona Norte',\n",
    "    'Ribeira':'Zona Norte',\n",
    "    'Moneró':'Zona Norte',\n",
    "    'Cordovil':'Zona Norte',\n",
    "    'Complexo do Alemão':'Zona Norte',\n",
    "    'Maré':'Zona Norte',\n",
    "    'Acari':'Zona Norte',\n",
    "    'Freguesia (Ilha)':'Zona Norte',\n",
    "    'Cacuia':'Zona Norte',\n",
    "    'Vigário Geral':'Zona Norte',\n",
    "    'Água Santa':'Zona Norte',\n",
    "    'Magalhães Bastos':'Zona Oeste',\n",
    "    'Cavalcanti':'Zona Norte',\n",
    "    'Gericinó':'Zona Oeste',\n",
    "    'Honório Gurgel':'Zona Norte',\n",
    "    'Zumbi':'Zona Norte',\n",
    "    'Osvaldo Cruz':'Zona Norte',\n",
    "    'Vaz Lobo':'Zona Norte',\n",
    "    'Paciência':'Zona Oeste',\n",
    "    'Grumari':'Zona Oeste',\n",
    "    'Vila Militar':'Zona Oeste',\n",
    "    'Parque Anchieta':'Zona Norte',\n",
    "    'Deodoro':'Zona Oeste',\n",
    "    'Guadalupe':'Zona Norte',\n",
    "    'Rocha Miranda':'Zona Norte',\n",
    "    'Engenho de Dentro':'Zona Norte',\n",
    "    'Engenho da Rainha':'Zona Norte',\n",
    "    'Abolição':'Zona Norte',\n",
    "    'Jacaré':'Zona Norte',\n",
    "    'Galeão':'Zona Norte',\n",
    "    'Bancários':'Zona Norte',\n",
    "    'Vila Kosmos':'Zona Norte'}, inplace = True)"
   ]
  },
  {
   "cell_type": "markdown",
   "metadata": {},
   "source": [
    "###### Coluna ``property_type``"
   ]
  },
  {
   "cell_type": "code",
   "execution_count": 28,
   "metadata": {},
   "outputs": [],
   "source": [
    "df.property_type.replace({\n",
    "    'Entire apartment':'Apartment',\n",
    "    'Entire condominium':'Apartment',\n",
    "    'Entire floor':'Apartament',\n",
    "    'Entire home/apt':'Apartment',\n",
    "    'Entire serviced apartment':'Apartment',\n",
    "    'Entire loft':'Apartment',\n",
    "    'Private room in apartment':'Room/House',\n",
    "    'Private room in house':'Room/House',\n",
    "    'Private room in condominium':'Room/House',\n",
    "    'Shared room in apartment':'Room/House',\n",
    "    'Shared room in house':'Room/House',\n",
    "    'Private room in bed and breakfast':'Room/House',\n",
    "    'Private room in guest suite':'Room/House',\n",
    "    'Room in hotel':'Room/House',\n",
    "    'Room in aparthotel':'Room/House',\n",
    "    'Entire guest suite':'Room/House',\n",
    "    'Private room in serviced apartment':'Room/House',\n",
    "    'Private room in guesthouse':'Room/House',\n",
    "    'Shared room in hostel':'Room/House',\n",
    "    'Private room in villa':'Room/House',\n",
    "    'Room in boutique hotel':'Room/House',\n",
    "    'Private room in loft':'Room/House',\n",
    "    'Private room in hostel':'Room/House',\n",
    "    'Private room in townhouse':'Room/House',\n",
    "    'Room in serviced apartment':'Room/House',\n",
    "    'Shared room in condominium':'Room/House',\n",
    "    'Private room in earth house':'Room/House',\n",
    "    'Shared room in bed and breakfast':'Room/House',\n",
    "    'Room in hostel':'Room/House',\n",
    "    'Shared room in guesthouse':'Room/House',\n",
    "    'Room in bed and breakfast':'Room/House',\n",
    "    'Private room in casa particular':'Room/House',\n",
    "    'Shared room in guest suite':'Room/House',\n",
    "    'Private room':'Room/House',\n",
    "    'Shared room in loft':'Room/House',\n",
    "    'Private room in tiny house':'Room/House',\n",
    "    'Private room in cottage':'Room/House',\n",
    "    'Private room in chalet':'Room/House',\n",
    "    'Shared room in villa':'Room/House',\n",
    "    'Private room in nature lodge':'Room/House',\n",
    "    'Shared room in tiny house':'Room/House',\n",
    "    'Shared room in casa particular':'Room/House',\n",
    "    'Private room in island':'Room/House',\n",
    "    'Private room in bungalow':'Room/House',\n",
    "    'Shared room in earth house':'Room/House',\n",
    "    'Shared room in boutique hotel':'Room/House',\n",
    "    'Room in nature lodge':'Room/House',\n",
    "    'Private room in floor':'Room/House',\n",
    "    'Entire dorm':'Room/House',\n",
    "    'Private room in barn':'Room/House',\n",
    "    'Private room in castle':'Room/House',\n",
    "    'Shared room':'Room/House',\n",
    "    'Shared room in townhouse':'Room/House',\n",
    "    'Private room in treehouse':'Room/House',\n",
    "    'Shared room in farm stay':'Room/House',\n",
    "    'Private room in boat':'Room/House',\n",
    "    'Private room in farm stay':'Room/House',\n",
    "    'Shared room in cottage':'Room/House',\n",
    "    'Entire vacation home':'Room/House',\n",
    "    'Shared room in nature lodge':'Room/House',\n",
    "    'Shared room in bungalow':'Room/House',\n",
    "    'Private room in tent':'Room/House',\n",
    "    'Shared room in castle':'Room/House',\n",
    "    'Private room in cabin':'Room/House',\n",
    "    'Entire house':'Room/House',\n",
    "    'Entire villa':'Room/House',\n",
    "    'Entire guesthouse':'Room/House',\n",
    "    'Tiny house':'Room/House',\n",
    "    'Entire cottage':'Room/House',\n",
    "    'Entire townhouse':'Room/House',\n",
    "    'Entire place':'Room/House',\n",
    "    'Entire chalet':'Room/House',\n",
    "    'Earth house':'Room/House',\n",
    "    'Casa particular':'Room/House',\n",
    "    'Entire cabin':'Room/House',\n",
    "    'Entire bungalow':'Room/House',\n",
    "    'Houseboat':'Room/House',\n",
    "    'Farm stay':'Room/House',\n",
    "    'Treehouse':'Room/House',\n",
    "    'Hut':'Room/House',\n",
    "    'Entire vacation home':'Room/House',\n",
    "    'Entire hostel':'Room/House',\n",
    "    'Entire floor':'Room/House',\n",
    "    'Entire bed and breakfast':'Room/House',\n",
    "    'Island':'Room/House',\n",
    "    'Yurt':'Room/House',\n",
    "    'Camper/RV': 'Room/House',\n",
    "    'Campsite': 'Room/House',\n",
    "    'Boat': 'Room/House'\n",
    "    }, inplace = True)"
   ]
  },
  {
   "cell_type": "markdown",
   "metadata": {},
   "source": [
    "## Modelagem e Avaliação de Modelos de Classificação"
   ]
  },
  {
   "cell_type": "markdown",
   "metadata": {},
   "source": [
    "### Seleção de Variaveis características e variaveis-alvo"
   ]
  },
  {
   "cell_type": "code",
   "execution_count": 29,
   "metadata": {
    "scrolled": false
   },
   "outputs": [],
   "source": [
    "# Definição das colunas que serão features\n",
    "X_c = df[['neighbourhood_region', 'latitude', 'longitude','accommodates', 'bathrooms_text', 'bedrooms', 'beds', \n",
    "              'minimum_nights', 'availability_30', 'availability_60', 'availability_90', 'availability_365', \n",
    "              'review_scores_rating', 'review_scores_accuracy', 'review_scores_cleanliness',\n",
    "              'review_scores_checkin', 'review_scores_communication',\n",
    "              'review_scores_location', 'review_scores_value', \n",
    "              'price']].copy()\n",
    "\n",
    "# Definição da variável-alvo\n",
    "y_c = df['property_type'].copy()\n",
    "# Transformação da nossa variável alvo para tipo númerico\n",
    "y_c.replace({'Apartment': 0, 'Room/House': 1}, inplace = True)"
   ]
  },
  {
   "cell_type": "markdown",
   "metadata": {},
   "source": [
    "### Pré-processamento dos dados"
   ]
  },
  {
   "cell_type": "code",
   "execution_count": 30,
   "metadata": {},
   "outputs": [],
   "source": [
    "# Pré-processamento das features categóricas (OneHotEncoder)\n",
    "categorical_features_ohe = [0, 3, 4, 5, 6, 7, 12, 13, 14, 15, 16, 17, 18]\n",
    "categorical_transformer_ohe= Pipeline(steps=[\n",
    "    ('onehot', OneHotEncoder(handle_unknown='ignore'))])"
   ]
  },
  {
   "cell_type": "code",
   "execution_count": 31,
   "metadata": {
    "scrolled": true
   },
   "outputs": [],
   "source": [
    "# Pré-processamento das features numéricas (StandardScaler)\n",
    "numeric_features = [1, 2, 8, 9, 10, 11, 19]\n",
    "numeric_transformer = Pipeline(steps=[\n",
    "    ('scaler', StandardScaler())])"
   ]
  },
  {
   "cell_type": "code",
   "execution_count": 32,
   "metadata": {},
   "outputs": [],
   "source": [
    "# Juntando o pré-processamento das features categóricas e númericas\n",
    "preprocessor_classification = ColumnTransformer(\n",
    "    transformers=[\n",
    "        ('cat_ohe', categorical_transformer_ohe, categorical_features_ohe),\n",
    "        ('num', numeric_transformer, numeric_features)])"
   ]
  },
  {
   "cell_type": "markdown",
   "metadata": {},
   "source": [
    "### Modelagem dos modelos de Classificação"
   ]
  },
  {
   "cell_type": "markdown",
   "metadata": {},
   "source": [
    "###### XGBoost (Only Classification)"
   ]
  },
  {
   "cell_type": "code",
   "execution_count": 33,
   "metadata": {},
   "outputs": [],
   "source": [
    "# Criando o pré-processamento e o Pipeline\n",
    "pipeline = Pipeline(steps=[('preprocessor', preprocessor_classification),\n",
    "                           ('classification', XGBClassifier(n_estimators = 1500, max_depth = 30, learning_rate = 0.01, \n",
    "                                                            colsample_bytree = 0.4))])\n",
    "\n",
    "\n",
    "# Utilizando o pipeline para treinar o modelo de XGBoost na base de treinamento\n",
    "xgbc = pipeline.fit(X_c, (y_c))"
   ]
  },
  {
   "cell_type": "markdown",
   "metadata": {},
   "source": [
    "## Modelagem e Avaliação de Modelos de Regressão"
   ]
  },
  {
   "cell_type": "markdown",
   "metadata": {},
   "source": [
    "### Seleção de Variaveis características e variaveis-alvo"
   ]
  },
  {
   "cell_type": "code",
   "execution_count": 34,
   "metadata": {},
   "outputs": [],
   "source": [
    "# Definição das colunas que serão features (lembrando que a coluna 'price' não está presente)\n",
    "X_r = df[['neighbourhood_region', 'latitude', 'longitude', 'accommodates', 'bathrooms_text', 'bedrooms', 'beds', \n",
    "          'minimum_nights', 'availability_30', 'availability_60', 'availability_90', 'availability_365', \n",
    "          'review_scores_rating', 'review_scores_accuracy', 'review_scores_cleanliness', \n",
    "          'review_scores_checkin', 'review_scores_communication', \n",
    "          'review_scores_location', 'review_scores_value', \n",
    "          'property_type']].copy()\n",
    "\n",
    "# Definição da variável-alvo\n",
    "y_r = df['price'].copy()"
   ]
  },
  {
   "cell_type": "markdown",
   "metadata": {},
   "source": [
    "### Pré-processamento dos dados"
   ]
  },
  {
   "cell_type": "code",
   "execution_count": 35,
   "metadata": {},
   "outputs": [],
   "source": [
    "# Pré-processamento das features categóricas (OneHotEncoder)\n",
    "categorical_features_ohe = [0, 3, 4, 5, 6, 7, 12, 13, 14, 15, 16, 17, 18, 19]\n",
    "categorical_transformer_ohe= Pipeline(steps=[\n",
    "    ('onehot', OneHotEncoder(handle_unknown='ignore'))])"
   ]
  },
  {
   "cell_type": "code",
   "execution_count": 36,
   "metadata": {
    "scrolled": true
   },
   "outputs": [],
   "source": [
    "# Pré-processamento das features numéricas (StandardScaler)\n",
    "numeric_features = [1, 2, 8, 9, 10, 11]\n",
    "numeric_transformer = Pipeline(steps=[\n",
    "    ('scaler', StandardScaler())])"
   ]
  },
  {
   "cell_type": "code",
   "execution_count": 37,
   "metadata": {},
   "outputs": [],
   "source": [
    "# Juntando o pré-processamento das features categóricas e númericas\n",
    "preprocessor_regression = ColumnTransformer(\n",
    "    transformers=[\n",
    "        ('cat_ohe', categorical_transformer_ohe, categorical_features_ohe),\n",
    "        ('num', numeric_transformer, numeric_features)])"
   ]
  },
  {
   "cell_type": "markdown",
   "metadata": {},
   "source": [
    "### Modelagem e Avaliação dos modelos"
   ]
  },
  {
   "cell_type": "markdown",
   "metadata": {},
   "source": [
    "###### LGBM (Only Regression)"
   ]
  },
  {
   "cell_type": "code",
   "execution_count": 38,
   "metadata": {},
   "outputs": [],
   "source": [
    "pipeline = Pipeline(steps=[('preprocessor', preprocessor_regression),\n",
    "                           ('model_lgbm', LGBMRegressor(n_estimators = 70, num_leaves = 50, learning_rate = 0.1, \n",
    "                                                        boosting_type = 'gbdt',objective = 'regression', \n",
    "                                                        metric = 'mae'))])\n",
    "\n",
    "lgbmr = pipeline.fit(X_r, y_r)"
   ]
  },
  {
   "cell_type": "markdown",
   "metadata": {},
   "source": [
    "## Modelagem e Avaliação de Modelos de Classificação e Regressão"
   ]
  },
  {
   "cell_type": "markdown",
   "metadata": {},
   "source": [
    "### Seleção de Variaveis características e variaveis-alvo"
   ]
  },
  {
   "cell_type": "code",
   "execution_count": 39,
   "metadata": {},
   "outputs": [],
   "source": [
    "# Definição das colunas que serão features\n",
    "X_cr = df[['neighbourhood_region', 'latitude', 'longitude', 'accommodates', 'bathrooms_text', 'bedrooms', 'beds', \n",
    "           'minimum_nights', 'availability_30', 'availability_60', 'availability_90', 'availability_365', \n",
    "           'review_scores_rating', 'review_scores_accuracy', 'review_scores_cleanliness', \n",
    "           'review_scores_checkin', 'review_scores_communication', \n",
    "           'review_scores_location', 'review_scores_value']].copy()\n",
    "\n",
    "# Definição da variável-alvo\n",
    "y_cr = df['property_type'].copy()\n",
    "y_rc = df['price'].copy()"
   ]
  },
  {
   "cell_type": "markdown",
   "metadata": {},
   "source": [
    "### Pré-processamento dos dados"
   ]
  },
  {
   "cell_type": "code",
   "execution_count": 40,
   "metadata": {},
   "outputs": [],
   "source": [
    "# Pré-processamento das features categóricas (OneHotEncoder)\n",
    "categorical_features_ohe = [0, 3, 4, 5, 6, 7, 12, 13, 14, 15, 16, 17, 18]\n",
    "categorical_transformer_ohe= Pipeline(steps=[\n",
    "    ('onehot', OneHotEncoder(handle_unknown='ignore'))])"
   ]
  },
  {
   "cell_type": "code",
   "execution_count": 41,
   "metadata": {
    "scrolled": true
   },
   "outputs": [],
   "source": [
    "numeric_features = [1, 2, 8, 9, 10, 11]\n",
    "numeric_transformer = Pipeline(steps=[\n",
    "    ('scaler', StandardScaler())])"
   ]
  },
  {
   "cell_type": "code",
   "execution_count": 42,
   "metadata": {},
   "outputs": [],
   "source": [
    "preprocessor = ColumnTransformer(\n",
    "    transformers=[\n",
    "        ('cat_ohe', categorical_transformer_ohe, categorical_features_ohe),\n",
    "        ('num', numeric_transformer, numeric_features)])"
   ]
  },
  {
   "cell_type": "markdown",
   "metadata": {},
   "source": [
    "###### XGBoost (Classification & Regression)"
   ]
  },
  {
   "cell_type": "code",
   "execution_count": 43,
   "metadata": {},
   "outputs": [],
   "source": [
    "# Criando o pré-processamento e o Pipeline\n",
    "pipeline = Pipeline(steps=[('preprocessor', preprocessor),\n",
    "                           ('classification', XGBClassifier(n_estimators = 1500, max_depth = 30, learning_rate = 0.01,\n",
    "                                                            colsample_bytree = 0.4))])\n",
    "\n",
    "\n",
    "# Utilizando o pipeline para treinar o modelo de XGBoost na base de treinamento\n",
    "xgbcr = pipeline.fit(X_cr, (y_cr))"
   ]
  },
  {
   "cell_type": "markdown",
   "metadata": {},
   "source": [
    "###### LGBM (Classification & Regression)"
   ]
  },
  {
   "cell_type": "code",
   "execution_count": 44,
   "metadata": {},
   "outputs": [],
   "source": [
    "pipeline = Pipeline(steps=[('preprocessor', preprocessor),\n",
    "                           ('model_lgbm', LGBMRegressor(n_estimators = 70, num_leaves = 50, learning_rate = 0.1, \n",
    "                                                        boosting_type = 'gbdt',objective = 'regression', \n",
    "                                                        metric = 'mae'))])\n",
    "\n",
    "lgbmcr = pipeline.fit(X_cr, y_rc)"
   ]
  },
  {
   "cell_type": "markdown",
   "metadata": {},
   "source": [
    "### Salvando os modelos"
   ]
  },
  {
   "cell_type": "code",
   "execution_count": 45,
   "metadata": {},
   "outputs": [
    {
     "data": {
      "text/plain": [
       "['../models/LGBM_classreg_airbnb.pkl']"
      ]
     },
     "execution_count": 45,
     "metadata": {},
     "output_type": "execute_result"
    }
   ],
   "source": [
    "# Salvando o modelo de XGBoost de Classificação & Regressão\n",
    "joblib.dump(xgbc, '../models/XGboost_class_airbnb.pkl')\n",
    "joblib.dump(xgbcr, '../models/XGboost_classreg_airbnb.pkl')\n",
    "# Salvando o modelo de LGBM de Regressão & Classificação\n",
    "joblib.dump(lgbmr, '../models/LGBM_reg_airbnb.pkl')\n",
    "joblib.dump(lgbmcr, '../models/LGBM_classreg_airbnb.pkl')"
   ]
  }
 ],
 "metadata": {
  "kernelspec": {
   "display_name": "Python 3",
   "language": "python",
   "name": "python3"
  },
  "language_info": {
   "codemirror_mode": {
    "name": "ipython",
    "version": 3
   },
   "file_extension": ".py",
   "mimetype": "text/x-python",
   "name": "python",
   "nbconvert_exporter": "python",
   "pygments_lexer": "ipython3",
   "version": "3.7.4"
  }
 },
 "nbformat": 4,
 "nbformat_minor": 2
}
